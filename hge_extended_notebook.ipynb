{
 "cells": [
  {
   "cell_type": "code",
   "execution_count": 1,
   "metadata": {
    "colab": {
     "base_uri": "https://localhost:8080/"
    },
    "executionInfo": {
     "elapsed": 84698,
     "status": "ok",
     "timestamp": 1715265221065,
     "user": {
      "displayName": "Celal Alagoz",
      "userId": "10830558569600612007"
     },
     "user_tz": -180
    },
    "id": "qHzi2Sq2vqui",
    "outputId": "9323c0ee-8064-4a7d-b02c-1a4062757fbc"
   },
   "outputs": [
    {
     "name": "stdout",
     "output_type": "stream",
     "text": [
      "Mounted at /content/drive\n"
     ]
    }
   ],
   "source": [
    "from google.colab import drive\n",
    "drive.mount('/content/drive')"
   ]
  },
  {
   "cell_type": "code",
   "execution_count": 6,
   "metadata": {
    "colab": {
     "base_uri": "https://localhost:8080/"
    },
    "executionInfo": {
     "elapsed": 316,
     "status": "ok",
     "timestamp": 1715265317560,
     "user": {
      "displayName": "Celal Alagoz",
      "userId": "10830558569600612007"
     },
     "user_tz": -180
    },
    "id": "b9XPjVIJb9en",
    "outputId": "f4092e46-1e9b-45ba-f3f8-076849f31b04"
   },
   "outputs": [
    {
     "name": "stdout",
     "output_type": "stream",
     "text": [
      "/content/drive/MyDrive/Github\n",
      "/content/drive/MyDrive/Github/hge_extended\n",
      "\u001b[0m\u001b[01;34m.git\u001b[0m/  hge_extended_notebook.ipynb  \u001b[01;34m.ipynb_checkpoints\u001b[0m/  LICENSE  \u001b[01;34m__pycache__\u001b[0m/  README.md  utils.py\n"
     ]
    }
   ],
   "source": [
    "%cd /content/drive/MyDrive/Github/\n",
    "%cd hge_extended\n",
    "%ls -a"
   ]
  },
  {
   "cell_type": "code",
   "execution_count": null,
   "metadata": {
    "id": "jtkYwwqHyaF1"
   },
   "outputs": [],
   "source": [
    "!pip install openml\n",
    "!pip install prince\n",
    "!pip install scikit-learn-extra"
   ]
  },
  {
   "cell_type": "code",
   "execution_count": 9,
   "metadata": {
    "executionInfo": {
     "elapsed": 448,
     "status": "ok",
     "timestamp": 1715265518140,
     "user": {
      "displayName": "Celal Alagoz",
      "userId": "10830558569600612007"
     },
     "user_tz": -180
    },
    "id": "sH3gCzhknrpq"
   },
   "outputs": [],
   "source": [
    "from utils import select_classes"
   ]
  },
  {
   "cell_type": "code",
   "execution_count": 14,
   "metadata": {
    "colab": {
     "base_uri": "https://localhost:8080/"
    },
    "executionInfo": {
     "elapsed": 2938,
     "status": "ok",
     "timestamp": 1715265986274,
     "user": {
      "displayName": "Celal Alagoz",
      "userId": "10830558569600612007"
     },
     "user_tz": -180
    },
    "id": "c5bcJ0KWy3n8",
    "outputId": "ecf7c510-fec2-40ae-8e2e-04fd0084c3c4"
   },
   "outputs": [
    {
     "name": "stdout",
     "output_type": "stream",
     "text": [
      "[main e41c9d7] colab notebook code initiated\n",
      " 1 file changed, 1 insertion(+), 166 deletions(-)\n",
      " rewrite hge_extended_notebook.ipynb (100%)\n",
      "Enumerating objects: 5, done.\n",
      "Counting objects: 100% (5/5), done.\n",
      "Delta compression using up to 2 threads\n",
      "Compressing objects: 100% (3/3), done.\n",
      "Writing objects: 100% (3/3), 1.39 KiB | 109.00 KiB/s, done.\n",
      "Total 3 (delta 1), reused 0 (delta 0), pack-reused 0\n",
      "remote: Resolving deltas: 100% (1/1), completed with 1 local object.\u001b[K\n",
      "To https://github.com/alagoz/hge_extended\n",
      "   a30e777..e41c9d7  main -> main\n"
     ]
    }
   ],
   "source": [
    "!git add hge_extended_notebook.ipynb\n",
    "!git add utils.py\n",
    "\n",
    "!git config --global user.name celal alagoz\n",
    "!git config --global user.email celal.alagoz@gmail.com\n",
    "!git commit -m \"colab notebook code initiated\"\n",
    "!git push"
   ]
  }
 ],
 "metadata": {
  "colab": {
   "provenance": []
  },
  "kernelspec": {
   "display_name": "Python 3 (ipykernel)",
   "language": "python",
   "name": "python3"
  },
  "language_info": {
   "codemirror_mode": {
    "name": "ipython",
    "version": 3
   },
   "file_extension": ".py",
   "mimetype": "text/x-python",
   "name": "python",
   "nbconvert_exporter": "python",
   "pygments_lexer": "ipython3",
   "version": "3.10.9"
  }
 },
 "nbformat": 4,
 "nbformat_minor": 4
}
